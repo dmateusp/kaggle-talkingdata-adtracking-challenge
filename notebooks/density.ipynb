{
 "cells": [
  {
   "cell_type": "code",
   "execution_count": 1,
   "metadata": {
    "_cell_guid": "b1076dfc-b9ad-4769-8c92-a6c4dae69d19",
    "_uuid": "8f2839f25d086af736a60e9eeb907d3b93b6e0e5"
   },
   "outputs": [],
   "source": [
    "# imports\n",
    "import numpy as np # linear algebra\n",
    "import pandas as pd # data processing, CSV file I/O (e.g. pd.read_csv)\n",
    "import os"
   ]
  },
  {
   "cell_type": "code",
   "execution_count": 2,
   "metadata": {
    "_cell_guid": "79c7e3d0-c299-4dcb-8224-4455121ee9b0",
    "_uuid": "d629ff2d2480ee46fbb7e2d37f6b5fab8052498a"
   },
   "outputs": [],
   "source": [
    "df = pd.read_csv(\"../data/train_sample.csv.zip\")"
   ]
  },
  {
   "cell_type": "markdown",
   "metadata": {
    "_uuid": "07ba347fb68183bb03fb95ba33e92e8b9db59c7b"
   },
   "source": [
    "# Density"
   ]
  },
  {
   "cell_type": "markdown",
   "metadata": {
    "_uuid": "ea4b1aca2cf1aca116220c57ac2a22b318b81d60"
   },
   "source": [
    "## Group by IP/Device/OS \n",
    "\n",
    "Again, if it's a public hotspot, we may see some spree behavior here. If the # of clicks from this triplet is low, but heavily concentrated ... might be some fraud."
   ]
  },
  {
   "cell_type": "code",
   "execution_count": 3,
   "metadata": {
    "_uuid": "9395b16a9c7a9dd480eb8066fe84c446362fce7f"
   },
   "outputs": [],
   "source": [
    "df.click_time = pd.to_datetime(df.click_time)\n",
    "df['time_diff_triplet'] = df.sort_values(['ip','device','os','click_time']).groupby(['ip','device','os'])['click_time'].diff()\n"
   ]
  },
  {
   "cell_type": "code",
   "execution_count": 4,
   "metadata": {
    "_uuid": "ffdbc6ae7aab1c3709235c06c16e951eca1aaffe"
   },
   "outputs": [],
   "source": [
    "def get_seconds(time_delta):\n",
    "    return time_delta.seconds\n",
    "\n",
    "df['seconds_triplet'] = df['time_diff_triplet'].apply(get_seconds)"
   ]
  },
  {
   "cell_type": "markdown",
   "metadata": {
    "_uuid": "12ceb16087ef41ef5b5aec0e9ef594feec315cfd"
   },
   "source": [
    "### Sanity Check - do the seconds match the time_diff?\n",
    "\n",
    "For this ip/device/os ... 8 hours between 1st and 2nd click, 3 hours between 2nd and 3rd click, and so on. "
   ]
  },
  {
   "cell_type": "code",
   "execution_count": 5,
   "metadata": {
    "_uuid": "a0fec5d55307b5695992c87a67055544c264c097"
   },
   "outputs": [
    {
     "data": {
      "text/html": [
       "<div>\n",
       "<style scoped>\n",
       "    .dataframe tbody tr th:only-of-type {\n",
       "        vertical-align: middle;\n",
       "    }\n",
       "\n",
       "    .dataframe tbody tr th {\n",
       "        vertical-align: top;\n",
       "    }\n",
       "\n",
       "    .dataframe thead th {\n",
       "        text-align: right;\n",
       "    }\n",
       "</style>\n",
       "<table border=\"1\" class=\"dataframe\">\n",
       "  <thead>\n",
       "    <tr style=\"text-align: right;\">\n",
       "      <th></th>\n",
       "      <th>ip</th>\n",
       "      <th>app</th>\n",
       "      <th>device</th>\n",
       "      <th>os</th>\n",
       "      <th>channel</th>\n",
       "      <th>click_time</th>\n",
       "      <th>attributed_time</th>\n",
       "      <th>is_attributed</th>\n",
       "      <th>time_diff_triplet</th>\n",
       "      <th>seconds_triplet</th>\n",
       "    </tr>\n",
       "  </thead>\n",
       "  <tbody>\n",
       "    <tr>\n",
       "      <th>66615</th>\n",
       "      <td>118315</td>\n",
       "      <td>1</td>\n",
       "      <td>1</td>\n",
       "      <td>13</td>\n",
       "      <td>137</td>\n",
       "      <td>2017-11-07 08:36:03</td>\n",
       "      <td>NaN</td>\n",
       "      <td>0</td>\n",
       "      <td>NaT</td>\n",
       "      <td>NaN</td>\n",
       "    </tr>\n",
       "    <tr>\n",
       "      <th>28804</th>\n",
       "      <td>118315</td>\n",
       "      <td>3</td>\n",
       "      <td>1</td>\n",
       "      <td>13</td>\n",
       "      <td>280</td>\n",
       "      <td>2017-11-07 12:42:50</td>\n",
       "      <td>NaN</td>\n",
       "      <td>0</td>\n",
       "      <td>04:06:47</td>\n",
       "      <td>14807.0</td>\n",
       "    </tr>\n",
       "    <tr>\n",
       "      <th>62507</th>\n",
       "      <td>118315</td>\n",
       "      <td>18</td>\n",
       "      <td>1</td>\n",
       "      <td>13</td>\n",
       "      <td>134</td>\n",
       "      <td>2017-11-07 14:21:56</td>\n",
       "      <td>NaN</td>\n",
       "      <td>0</td>\n",
       "      <td>01:39:06</td>\n",
       "      <td>5946.0</td>\n",
       "    </tr>\n",
       "    <tr>\n",
       "      <th>36702</th>\n",
       "      <td>118315</td>\n",
       "      <td>3</td>\n",
       "      <td>1</td>\n",
       "      <td>13</td>\n",
       "      <td>489</td>\n",
       "      <td>2017-11-08 05:12:58</td>\n",
       "      <td>NaN</td>\n",
       "      <td>0</td>\n",
       "      <td>14:51:02</td>\n",
       "      <td>53462.0</td>\n",
       "    </tr>\n",
       "    <tr>\n",
       "      <th>64422</th>\n",
       "      <td>118315</td>\n",
       "      <td>6</td>\n",
       "      <td>1</td>\n",
       "      <td>13</td>\n",
       "      <td>459</td>\n",
       "      <td>2017-11-08 10:46:43</td>\n",
       "      <td>NaN</td>\n",
       "      <td>0</td>\n",
       "      <td>05:33:45</td>\n",
       "      <td>20025.0</td>\n",
       "    </tr>\n",
       "    <tr>\n",
       "      <th>66607</th>\n",
       "      <td>118315</td>\n",
       "      <td>15</td>\n",
       "      <td>1</td>\n",
       "      <td>13</td>\n",
       "      <td>245</td>\n",
       "      <td>2017-11-08 16:08:30</td>\n",
       "      <td>NaN</td>\n",
       "      <td>0</td>\n",
       "      <td>05:21:47</td>\n",
       "      <td>19307.0</td>\n",
       "    </tr>\n",
       "    <tr>\n",
       "      <th>89984</th>\n",
       "      <td>118315</td>\n",
       "      <td>11</td>\n",
       "      <td>1</td>\n",
       "      <td>13</td>\n",
       "      <td>137</td>\n",
       "      <td>2017-11-09 01:12:29</td>\n",
       "      <td>NaN</td>\n",
       "      <td>0</td>\n",
       "      <td>09:03:59</td>\n",
       "      <td>32639.0</td>\n",
       "    </tr>\n",
       "    <tr>\n",
       "      <th>68039</th>\n",
       "      <td>118315</td>\n",
       "      <td>2</td>\n",
       "      <td>1</td>\n",
       "      <td>13</td>\n",
       "      <td>237</td>\n",
       "      <td>2017-11-09 02:52:44</td>\n",
       "      <td>NaN</td>\n",
       "      <td>0</td>\n",
       "      <td>01:40:15</td>\n",
       "      <td>6015.0</td>\n",
       "    </tr>\n",
       "    <tr>\n",
       "      <th>18347</th>\n",
       "      <td>118315</td>\n",
       "      <td>2</td>\n",
       "      <td>1</td>\n",
       "      <td>13</td>\n",
       "      <td>237</td>\n",
       "      <td>2017-11-09 03:05:28</td>\n",
       "      <td>NaN</td>\n",
       "      <td>0</td>\n",
       "      <td>00:12:44</td>\n",
       "      <td>764.0</td>\n",
       "    </tr>\n",
       "    <tr>\n",
       "      <th>94144</th>\n",
       "      <td>118315</td>\n",
       "      <td>2</td>\n",
       "      <td>1</td>\n",
       "      <td>13</td>\n",
       "      <td>237</td>\n",
       "      <td>2017-11-09 05:21:52</td>\n",
       "      <td>NaN</td>\n",
       "      <td>0</td>\n",
       "      <td>02:16:24</td>\n",
       "      <td>8184.0</td>\n",
       "    </tr>\n",
       "  </tbody>\n",
       "</table>\n",
       "</div>"
      ],
      "text/plain": [
       "           ip  app  device  os  channel          click_time attributed_time  \\\n",
       "66615  118315    1       1  13      137 2017-11-07 08:36:03             NaN   \n",
       "28804  118315    3       1  13      280 2017-11-07 12:42:50             NaN   \n",
       "62507  118315   18       1  13      134 2017-11-07 14:21:56             NaN   \n",
       "36702  118315    3       1  13      489 2017-11-08 05:12:58             NaN   \n",
       "64422  118315    6       1  13      459 2017-11-08 10:46:43             NaN   \n",
       "66607  118315   15       1  13      245 2017-11-08 16:08:30             NaN   \n",
       "89984  118315   11       1  13      137 2017-11-09 01:12:29             NaN   \n",
       "68039  118315    2       1  13      237 2017-11-09 02:52:44             NaN   \n",
       "18347  118315    2       1  13      237 2017-11-09 03:05:28             NaN   \n",
       "94144  118315    2       1  13      237 2017-11-09 05:21:52             NaN   \n",
       "\n",
       "       is_attributed time_diff_triplet  seconds_triplet  \n",
       "66615              0               NaT              NaN  \n",
       "28804              0          04:06:47          14807.0  \n",
       "62507              0          01:39:06           5946.0  \n",
       "36702              0          14:51:02          53462.0  \n",
       "64422              0          05:33:45          20025.0  \n",
       "66607              0          05:21:47          19307.0  \n",
       "89984              0          09:03:59          32639.0  \n",
       "68039              0          01:40:15           6015.0  \n",
       "18347              0          00:12:44            764.0  \n",
       "94144              0          02:16:24           8184.0  "
      ]
     },
     "execution_count": 5,
     "metadata": {},
     "output_type": "execute_result"
    }
   ],
   "source": [
    "df[(df.ip==118315) & (df.device==1) & (df.os==13)].sort_values(['click_time'])"
   ]
  },
  {
   "cell_type": "code",
   "execution_count": 6,
   "metadata": {
    "_uuid": "034dddae45080770df809c1a148ca242b2488dbd"
   },
   "outputs": [
    {
     "name": "stdout",
     "output_type": "stream",
     "text": [
      "count    22384.000000\n",
      "mean     28121.416011\n",
      "std      24946.066455\n",
      "min          0.000000\n",
      "25%       6364.750000\n",
      "50%      20706.500000\n",
      "75%      45335.500000\n",
      "max      86397.000000\n",
      "Name: seconds_triplet, dtype: float64\n"
     ]
    },
    {
     "ename": "ImportError",
     "evalue": "No module named matplotlib.pyplot",
     "output_type": "error",
     "traceback": [
      "\u001b[0;31m---------------------------------------------------------------------------\u001b[0m",
      "\u001b[0;31mImportError\u001b[0m                               Traceback (most recent call last)",
      "\u001b[0;32m<ipython-input-6-5c2419a9a927>\u001b[0m in \u001b[0;36m<module>\u001b[0;34m()\u001b[0m\n\u001b[1;32m      1\u001b[0m \u001b[0;32mprint\u001b[0m\u001b[0;34m(\u001b[0m\u001b[0mdf\u001b[0m\u001b[0;34m.\u001b[0m\u001b[0mseconds_triplet\u001b[0m\u001b[0;34m.\u001b[0m\u001b[0mdescribe\u001b[0m\u001b[0;34m(\u001b[0m\u001b[0;34m)\u001b[0m\u001b[0;34m)\u001b[0m\u001b[0;34m\u001b[0m\u001b[0m\n\u001b[0;32m----> 2\u001b[0;31m \u001b[0mdf\u001b[0m\u001b[0;34m.\u001b[0m\u001b[0mseconds_triplet\u001b[0m\u001b[0;34m.\u001b[0m\u001b[0mhist\u001b[0m\u001b[0;34m(\u001b[0m\u001b[0;34m)\u001b[0m\u001b[0;34m\u001b[0m\u001b[0m\n\u001b[0m",
      "\u001b[0;32m/web/kaggle-talkingdata-adtracking-challenge/venv/lib/python2.7/site-packages/pandas/plotting/_core.pyc\u001b[0m in \u001b[0;36mhist_series\u001b[0;34m(self, by, ax, grid, xlabelsize, xrot, ylabelsize, yrot, figsize, bins, **kwds)\u001b[0m\n\u001b[1;32m   2226\u001b[0m \u001b[0;34m\u001b[0m\u001b[0m\n\u001b[1;32m   2227\u001b[0m     \"\"\"\n\u001b[0;32m-> 2228\u001b[0;31m     \u001b[0;32mimport\u001b[0m \u001b[0mmatplotlib\u001b[0m\u001b[0;34m.\u001b[0m\u001b[0mpyplot\u001b[0m \u001b[0;32mas\u001b[0m \u001b[0mplt\u001b[0m\u001b[0;34m\u001b[0m\u001b[0m\n\u001b[0m\u001b[1;32m   2229\u001b[0m \u001b[0;34m\u001b[0m\u001b[0m\n\u001b[1;32m   2230\u001b[0m     \u001b[0;32mif\u001b[0m \u001b[0mby\u001b[0m \u001b[0;32mis\u001b[0m \u001b[0mNone\u001b[0m\u001b[0;34m:\u001b[0m\u001b[0;34m\u001b[0m\u001b[0m\n",
      "\u001b[0;31mImportError\u001b[0m: No module named matplotlib.pyplot"
     ]
    }
   ],
   "source": [
    "print(df.seconds_triplet.describe())\n",
    "df.seconds_triplet.hist()"
   ]
  },
  {
   "cell_type": "markdown",
   "metadata": {
    "_uuid": "3d6aaab1c0655b0ba3369c83d112a01b438929c2"
   },
   "source": [
    "    ### Wouldnt a robot user be fast?\n",
    "\n",
    "For spree clicks, i would expect very little time between clicks. Let's filter seconds to < 1 minute and see how many < 1 minute lags there are for these triplets."
   ]
  },
  {
   "cell_type": "code",
   "execution_count": null,
   "metadata": {
    "_uuid": "e2e7759fc52b872954ef469cab459f297e8f4c5a"
   },
   "outputs": [],
   "source": [
    "print(df[df.seconds_triplet < 60]['seconds_triplet'].describe())\n",
    "df[df.seconds_triplet < 60]['seconds_triplet'].hist()"
   ]
  },
  {
   "cell_type": "code",
   "execution_count": null,
   "metadata": {
    "_uuid": "9f28d0ba50345f9355a49e3b5ff62e645d40c192"
   },
   "outputs": [],
   "source": [
    "df[df.seconds_triplet<60].groupby(['ip','device','os']).size().sort_values(ascending=False)"
   ]
  },
  {
   "cell_type": "markdown",
   "metadata": {
    "_uuid": "705e594f70936446deb2c9d06d33b8a432ae2021"
   },
   "source": [
    "### 5314 - is the public hotspot"
   ]
  },
  {
   "cell_type": "code",
   "execution_count": null,
   "metadata": {
    "_uuid": "1386d4d8ca097cd5038075ae4df86b1eb65b8cfd"
   },
   "outputs": [],
   "source": [
    "df[(df.seconds_triplet <60) & (df.ip == 5314)].sort_values(['click_time'])"
   ]
  },
  {
   "cell_type": "markdown",
   "metadata": {
    "_uuid": "a8b6ff436762a689893d5739b97bc2fd46b7e64b"
   },
   "source": [
    "## Same analysis, Groupby IP (instead of triplets)\n",
    "\n",
    "just to see the distribution. As expected, presumably the hotspots are at the top."
   ]
  },
  {
   "cell_type": "code",
   "execution_count": null,
   "metadata": {
    "_uuid": "ad7d9218a723dc4d60ca6b6a532ab8662fbb6d4a"
   },
   "outputs": [],
   "source": [
    "df['time_diff_ip'] = df.sort_values(['ip','click_time']).groupby(['ip'])['click_time'].diff()\n",
    "df['seconds_ip'] = df['time_diff_ip'].apply(get_seconds)"
   ]
  },
  {
   "cell_type": "code",
   "execution_count": null,
   "metadata": {
    "_uuid": "7af1f887116d3fbc58f5dc793080609e6551e0bb"
   },
   "outputs": [],
   "source": [
    "print(df[df.seconds_ip < 60]['seconds_ip'].describe())\n",
    "df[df.seconds_ip < 60]['seconds_ip'].hist()"
   ]
  },
  {
   "cell_type": "code",
   "execution_count": null,
   "metadata": {
    "_uuid": "b04bf40b27309d67267c4b4f9577368274b42e5d"
   },
   "outputs": [],
   "source": [
    "df[df.seconds_ip<60].groupby(['ip']).size().sort_values(ascending=False).to_frame('count') "
   ]
  },
  {
   "cell_type": "code",
   "execution_count": null,
   "metadata": {
    "_uuid": "91ada2d91b7bc50def9ff4ee12ad41766623a428"
   },
   "outputs": [],
   "source": [
    "df[(df.seconds_ip <60) & (df.ip == 5348)].sort_values(['click_time']) # 5348 a hotspot?"
   ]
  },
  {
   "cell_type": "code",
   "execution_count": null,
   "metadata": {
    "_uuid": "70d63207f0473eb84a33e5b79f3c00c9923ca3d2"
   },
   "outputs": [],
   "source": []
  }
 ],
 "metadata": {
  "kernelspec": {
   "display_name": "Python 2",
   "language": "python",
   "name": "python2"
  },
  "language_info": {
   "codemirror_mode": {
    "name": "ipython",
    "version": 2
   },
   "file_extension": ".py",
   "mimetype": "text/x-python",
   "name": "python",
   "nbconvert_exporter": "python",
   "pygments_lexer": "ipython2",
   "version": "2.7.13"
  }
 },
 "nbformat": 4,
 "nbformat_minor": 1
}
