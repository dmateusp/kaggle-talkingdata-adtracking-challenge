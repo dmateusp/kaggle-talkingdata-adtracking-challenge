{
 "cells": [
  {
   "cell_type": "code",
   "execution_count": 1,
   "metadata": {},
   "outputs": [],
   "source": [
    "# imports\n",
    "import numpy as np # linear algebra\n",
    "import pandas as pd # data processing, CSV file I/O (e.g. pd.read_csv)\n",
    "from os import (environ, path)\n",
    "import sys\n",
    "import calendar\n",
    "from sklearn import datasets\n",
    "from sklearn.feature_selection import RFE\n",
    "from sklearn.linear_model import LogisticRegression"
   ]
  },
  {
   "cell_type": "code",
   "execution_count": 2,
   "metadata": {},
   "outputs": [
    {
     "name": "stdout",
     "output_type": "stream",
     "text": [
      "        app  device  os  channel           click_time attributed_time  \\\n",
      "ip                                                                      \n",
      "87540    12       1  13      497  2017-11-07 09:30:38             NaN   \n",
      "105560   25       1  17      259  2017-11-07 13:40:27             NaN   \n",
      "101424   12       1  19      212  2017-11-07 18:05:24             NaN   \n",
      "94584    13       1  13      477  2017-11-07 04:58:08             NaN   \n",
      "68413    12       1   1      178  2017-11-09 09:00:09             NaN   \n",
      "\n",
      "        is_attributed  \n",
      "ip                     \n",
      "87540               0  \n",
      "105560              0  \n",
      "101424              0  \n",
      "94584               0  \n",
      "68413               0  \n",
      "app                 int64\n",
      "device              int64\n",
      "os                  int64\n",
      "channel             int64\n",
      "click_time         object\n",
      "attributed_time    object\n",
      "is_attributed       int64\n",
      "dtype: object\n"
     ]
    }
   ],
   "source": [
    "df = pd.read_csv(path.join(environ['DATA_FOLDER'], \"train_sample.csv.zip\"))\n",
    "df.set_index('ip', inplace=True)\n",
    "print(df.head(5))\n",
    "print(df.dtypes)"
   ]
  },
  {
   "cell_type": "code",
   "execution_count": 3,
   "metadata": {},
   "outputs": [
    {
     "name": "stdout",
     "output_type": "stream",
     "text": [
      "        app  device  os  channel attributed_time  is_attributed  Monday  \\\n",
      "ip                                                                        \n",
      "87540    12       1  13      497             NaN              0       0   \n",
      "105560   25       1  17      259             NaN              0       0   \n",
      "101424   12       1  19      212             NaN              0       0   \n",
      "94584    13       1  13      477             NaN              0       0   \n",
      "68413    12       1   1      178             NaN              0       0   \n",
      "\n",
      "        Thursday  Tuesday  Wednesday   ...     hour_14  hour_15  hour_16  \\\n",
      "ip                                     ...                                 \n",
      "87540          0        1          0   ...           0        0        0   \n",
      "105560         0        1          0   ...           0        0        0   \n",
      "101424         0        1          0   ...           0        0        0   \n",
      "94584          0        1          0   ...           0        0        0   \n",
      "68413          1        0          0   ...           0        0        0   \n",
      "\n",
      "        hour_17  hour_18  hour_19  hour_20  hour_21  hour_22  hour_23  \n",
      "ip                                                                     \n",
      "87540         0        0        0        0        0        0        0  \n",
      "105560        0        0        0        0        0        0        0  \n",
      "101424        0        1        0        0        0        0        0  \n",
      "94584         0        0        0        0        0        0        0  \n",
      "68413         0        0        0        0        0        0        0  \n",
      "\n",
      "[5 rows x 34 columns]\n"
     ]
    }
   ],
   "source": [
    "def explode_date_attributes(dataframe, column_name):\n",
    "\n",
    "    days = pd.to_datetime(dataframe[column_name]).dt.weekday_name\n",
    "    dummies_day = pd.get_dummies(days)\n",
    "    \n",
    "    hours = pd.to_datetime(dataframe[column_name]).dt.hour\n",
    "    dummies_hour = pd.get_dummies(hours, prefix='hour')\n",
    "    \n",
    "    return pd.concat([dataframe, dummies_day, dummies_hour], axis=1)\n",
    "\n",
    "\n",
    "df_date_dummy = explode_date_attributes(df, 'click_time')\n",
    "df_date_dummy = df_date_dummy.drop('click_time', axis='columns')\n",
    "print(df_date_dummy.head(5))"
   ]
  },
  {
   "cell_type": "code",
   "execution_count": 4,
   "metadata": {},
   "outputs": [
    {
     "name": "stdout",
     "output_type": "stream",
     "text": [
      "        app  device  os  channel  is_attributed  Monday  Thursday  Tuesday  \\\n",
      "ip                                                                           \n",
      "87540    12       1  13      497              0       0         0        1   \n",
      "105560   25       1  17      259              0       0         0        1   \n",
      "101424   12       1  19      212              0       0         0        1   \n",
      "94584    13       1  13      477              0       0         0        1   \n",
      "68413    12       1   1      178              0       0         1        0   \n",
      "\n",
      "        Wednesday  hour_0   ...     hour_14  hour_15  hour_16  hour_17  \\\n",
      "ip                          ...                                          \n",
      "87540           0       0   ...           0        0        0        0   \n",
      "105560          0       0   ...           0        0        0        0   \n",
      "101424          0       0   ...           0        0        0        0   \n",
      "94584           0       0   ...           0        0        0        0   \n",
      "68413           0       0   ...           0        0        0        0   \n",
      "\n",
      "        hour_18  hour_19  hour_20  hour_21  hour_22  hour_23  \n",
      "ip                                                            \n",
      "87540         0        0        0        0        0        0  \n",
      "105560        0        0        0        0        0        0  \n",
      "101424        1        0        0        0        0        0  \n",
      "94584         0        0        0        0        0        0  \n",
      "68413         0        0        0        0        0        0  \n",
      "\n",
      "[5 rows x 33 columns]\n"
     ]
    }
   ],
   "source": [
    "# not sure how to use attributed_time yet, just dropping it for now\n",
    "df_train = df_date_dummy.drop('attributed_time', axis='columns')\n",
    "print(df_train.head(5))"
   ]
  },
  {
   "cell_type": "code",
   "execution_count": 5,
   "metadata": {},
   "outputs": [
    {
     "name": "stdout",
     "output_type": "stream",
     "text": [
      "        app_1  app_2  app_3  app_4  app_5  app_6  app_7  app_8  app_9  app_10  \\\n",
      "ip                                                                              \n",
      "87540       0      0      0      0      0      0      0      0      0       0   \n",
      "105560      0      0      0      0      0      0      0      0      0       0   \n",
      "101424      0      0      0      0      0      0      0      0      0       0   \n",
      "94584       0      0      0      0      0      0      0      0      0       0   \n",
      "68413       0      0      0      0      0      0      0      0      0       0   \n",
      "\n",
      "         ...     hour_14  hour_15  hour_16  hour_17  hour_18  hour_19  \\\n",
      "ip       ...                                                            \n",
      "87540    ...           0        0        0        0        0        0   \n",
      "105560   ...           0        0        0        0        0        0   \n",
      "101424   ...           0        0        0        0        1        0   \n",
      "94584    ...           0        0        0        0        0        0   \n",
      "68413    ...           0        0        0        0        0        0   \n",
      "\n",
      "        hour_20  hour_21  hour_22  hour_23  \n",
      "ip                                          \n",
      "87540         0        0        0        0  \n",
      "105560        0        0        0        0  \n",
      "101424        0        0        0        0  \n",
      "94584         0        0        0        0  \n",
      "68413         0        0        0        0  \n",
      "\n",
      "[5 rows x 585 columns]\n"
     ]
    }
   ],
   "source": [
    "# All rest to dummy values\n",
    "to_dummies = ['app', 'device', 'os', 'channel']\n",
    "dummies = [pd.get_dummies(df_train[x], prefix=x) for x in to_dummies]\n",
    "dummies.append(df_train)\n",
    "df_train = pd.concat(dummies, axis='columns')\n",
    "df_train.drop(to_dummies, axis='columns')\n",
    "print(df_train.head(5))\n"
   ]
  },
  {
   "cell_type": "code",
   "execution_count": 6,
   "metadata": {},
   "outputs": [
    {
     "name": "stdout",
     "output_type": "stream",
     "text": [
      "['app_1', 'app_2', 'app_3', 'app_4', 'app_5', 'app_6', 'app_7', 'app_8', 'app_9', 'app_10', 'app_11', 'app_12', 'app_13', 'app_14', 'app_15', 'app_16', 'app_17', 'app_18', 'app_19', 'app_20', 'app_21', 'app_22', 'app_23', 'app_24', 'app_25', 'app_26', 'app_27', 'app_28', 'app_29', 'app_30', 'app_31', 'app_32', 'app_33', 'app_34', 'app_35', 'app_36', 'app_37', 'app_38', 'app_39', 'app_42', 'app_43', 'app_44', 'app_45', 'app_46', 'app_47', 'app_48', 'app_49', 'app_50', 'app_52', 'app_53', 'app_54', 'app_55', 'app_56', 'app_58', 'app_59', 'app_60', 'app_61', 'app_62', 'app_64', 'app_65', 'app_66', 'app_67', 'app_68', 'app_70', 'app_71', 'app_72', 'app_74', 'app_75', 'app_76', 'app_78', 'app_79', 'app_80', 'app_81', 'app_82', 'app_83', 'app_84', 'app_85', 'app_86', 'app_87', 'app_88', 'app_91', 'app_92', 'app_93', 'app_94', 'app_95', 'app_96', 'app_97', 'app_99', 'app_100', 'app_101', 'app_103', 'app_104', 'app_105', 'app_107', 'app_108', 'app_109', 'app_110', 'app_112', 'app_115', 'app_116', 'app_117', 'app_118', 'app_119', 'app_121', 'app_122', 'app_123', 'app_124', 'app_125', 'app_133', 'app_134', 'app_137', 'app_139', 'app_145', 'app_146', 'app_148', 'app_149', 'app_150', 'app_151', 'app_158', 'app_160', 'app_161', 'app_163', 'app_165', 'app_168', 'app_170', 'app_171', 'app_176', 'app_181', 'app_183', 'app_190', 'app_192', 'app_202', 'app_204', 'app_208', 'app_215', 'app_216', 'app_232', 'app_233', 'app_261', 'app_266', 'app_267', 'app_268', 'app_271', 'app_273', 'app_293', 'app_302', 'app_310', 'app_315', 'app_347', 'app_363', 'app_372', 'app_394', 'app_398', 'app_407', 'app_425', 'app_474', 'app_486', 'app_536', 'app_538', 'app_548', 'app_551', 'device_0', 'device_1', 'device_2', 'device_4', 'device_5', 'device_6', 'device_7', 'device_9', 'device_11', 'device_16', 'device_17', 'device_18', 'device_20', 'device_21', 'device_25', 'device_30', 'device_33', 'device_36', 'device_37', 'device_40', 'device_49', 'device_50', 'device_53', 'device_56', 'device_58', 'device_59', 'device_60', 'device_67', 'device_74', 'device_76', 'device_78', 'device_79', 'device_97', 'device_100', 'device_102', 'device_103', 'device_106', 'device_109', 'device_114', 'device_116', 'device_124', 'device_129', 'device_154', 'device_160', 'device_163', 'device_167', 'device_180', 'device_182', 'device_188', 'device_196', 'device_202', 'device_203', 'device_210', 'device_211', 'device_220', 'device_241', 'device_268', 'device_291', 'device_321', 'device_329', 'device_347', 'device_351', 'device_362', 'device_374', 'device_385', 'device_386', 'device_414', 'device_420', 'device_486', 'device_516', 'device_549', 'device_552', 'device_558', 'device_579', 'device_581', 'device_596', 'device_607', 'device_657', 'device_828', 'device_883', 'device_928', 'device_957', 'device_1042', 'device_1080', 'device_1162', 'device_1318', 'device_1422', 'device_1482', 'device_1728', 'device_1839', 'device_2120', 'device_2429', 'device_2980', 'device_3032', 'device_3282', 'device_3331', 'device_3543', 'device_3545', 'device_3866', 'device_3867', 'os_0', 'os_1', 'os_2', 'os_3', 'os_4', 'os_5', 'os_6', 'os_7', 'os_8', 'os_9', 'os_10', 'os_11', 'os_12', 'os_13', 'os_14', 'os_15', 'os_16', 'os_17', 'os_18', 'os_19', 'os_20', 'os_21', 'os_22', 'os_23', 'os_24', 'os_25', 'os_26', 'os_27', 'os_28', 'os_29', 'os_30', 'os_31', 'os_32', 'os_34', 'os_35', 'os_36', 'os_37', 'os_38', 'os_39', 'os_40', 'os_41', 'os_42', 'os_43', 'os_44', 'os_45', 'os_46', 'os_47', 'os_48', 'os_49', 'os_50', 'os_52', 'os_53', 'os_55', 'os_56', 'os_57', 'os_58', 'os_59', 'os_60', 'os_61', 'os_62', 'os_63', 'os_64', 'os_65', 'os_66', 'os_67', 'os_68', 'os_69', 'os_70', 'os_71', 'os_73', 'os_74', 'os_76', 'os_77', 'os_78', 'os_79', 'os_80', 'os_81', 'os_83', 'os_84', 'os_85', 'os_87', 'os_88', 'os_90', 'os_92', 'os_96', 'os_97', 'os_98', 'os_99', 'os_100', 'os_102', 'os_106', 'os_107', 'os_108', 'os_109', 'os_110', 'os_111', 'os_112', 'os_113', 'os_114', 'os_116', 'os_117', 'os_118', 'os_127', 'os_129', 'os_132', 'os_133', 'os_135', 'os_137', 'os_138', 'os_142', 'os_151', 'os_152', 'os_153', 'os_155', 'os_168', 'os_172', 'os_174', 'os_178', 'os_184', 'os_185', 'os_192', 'os_193', 'os_196', 'os_198', 'os_199', 'os_207', 'os_607', 'os_748', 'os_836', 'os_866', 'channel_3', 'channel_4', 'channel_5', 'channel_13', 'channel_15', 'channel_17', 'channel_18', 'channel_19', 'channel_21', 'channel_22', 'channel_24', 'channel_30', 'channel_101', 'channel_105', 'channel_107', 'channel_108', 'channel_110', 'channel_111', 'channel_113', 'channel_114', 'channel_115', 'channel_116', 'channel_118', 'channel_120', 'channel_121', 'channel_122', 'channel_123', 'channel_124', 'channel_125', 'channel_126', 'channel_127', 'channel_128', 'channel_130', 'channel_134', 'channel_135', 'channel_137', 'channel_138', 'channel_140', 'channel_145', 'channel_150', 'channel_153', 'channel_160', 'channel_171', 'channel_173', 'channel_174', 'channel_178', 'channel_182', 'channel_203', 'channel_205', 'channel_208', 'channel_210', 'channel_211', 'channel_212', 'channel_213', 'channel_215', 'channel_219', 'channel_224', 'channel_232', 'channel_234', 'channel_236', 'channel_237', 'channel_242', 'channel_243', 'channel_244', 'channel_245', 'channel_253', 'channel_258', 'channel_259', 'channel_261', 'channel_262', 'channel_265', 'channel_266', 'channel_268', 'channel_272', 'channel_274', 'channel_277', 'channel_278', 'channel_280', 'channel_282', 'channel_315', 'channel_317', 'channel_319', 'channel_320', 'channel_322', 'channel_325', 'channel_326', 'channel_328', 'channel_330', 'channel_332', 'channel_333', 'channel_334', 'channel_340', 'channel_341', 'channel_343', 'channel_347', 'channel_349', 'channel_353', 'channel_356', 'channel_360', 'channel_361', 'channel_364', 'channel_371', 'channel_373', 'channel_376', 'channel_377', 'channel_379', 'channel_386', 'channel_391', 'channel_400', 'channel_401', 'channel_402', 'channel_404', 'channel_406', 'channel_409', 'channel_410', 'channel_411', 'channel_412', 'channel_416', 'channel_417', 'channel_419', 'channel_420', 'channel_421', 'channel_424', 'channel_430', 'channel_435', 'channel_439', 'channel_442', 'channel_445', 'channel_446', 'channel_448', 'channel_449', 'channel_450', 'channel_451', 'channel_452', 'channel_453', 'channel_455', 'channel_456', 'channel_457', 'channel_459', 'channel_460', 'channel_463', 'channel_465', 'channel_466', 'channel_467', 'channel_469', 'channel_474', 'channel_477', 'channel_478', 'channel_479', 'channel_480', 'channel_481', 'channel_483', 'channel_484', 'channel_486', 'channel_487', 'channel_488', 'channel_489', 'channel_490', 'channel_496', 'channel_497', 'channel_498', 'app', 'device', 'os', 'channel', 'Monday', 'Thursday', 'Tuesday', 'Wednesday', 'hour_0', 'hour_1', 'hour_2', 'hour_3', 'hour_4', 'hour_5', 'hour_6', 'hour_7', 'hour_8', 'hour_9', 'hour_10', 'hour_11', 'hour_12', 'hour_13', 'hour_14', 'hour_15', 'hour_16', 'hour_17', 'hour_18', 'hour_19', 'hour_20', 'hour_21', 'hour_22', 'hour_23']\n"
     ]
    }
   ],
   "source": [
    "# Getting features X and dependent variable Y\n",
    "y = 'is_attributed'\n",
    "X = [x for x in df_train.columns.values.tolist() if x not in [y]]\n",
    "print(X)"
   ]
  },
  {
   "cell_type": "code",
   "execution_count": 7,
   "metadata": {},
   "outputs": [
    {
     "name": "stdout",
     "output_type": "stream",
     "text": [
      "80022\n",
      "19978\n"
     ]
    }
   ],
   "source": [
    "# Splitting between train and test in our sample\n",
    "msk = np.random.rand(len(df)) < 0.8\n",
    "train = df_train[msk]\n",
    "test = df_train[~msk]\n",
    "print(len(train))\n",
    "print(len(test))"
   ]
  },
  {
   "cell_type": "code",
   "execution_count": 8,
   "metadata": {},
   "outputs": [
    {
     "name": "stdout",
     "output_type": "stream",
     "text": [
      "Training..\n"
     ]
    },
    {
     "name": "stderr",
     "output_type": "stream",
     "text": [
      "/web/kaggle-talkingdata-adtracking-challenge/venv/lib/python2.7/site-packages/sklearn/linear_model/logistic.py:1228: UserWarning: 'n_jobs' > 1 does not have any effect when 'solver' is set to 'liblinear'. Got 'n_jobs' = -1.\n",
      "  \" = {}.\".format(self.n_jobs))\n"
     ]
    },
    {
     "name": "stdout",
     "output_type": "stream",
     "text": [
      "[LibLinear][LibLinear][LibLinear][LibLinear][LibLinear][LibLinear][LibLinear][LibLinear][LibLinear][LibLinear][LibLinear][LibLinear][LibLinear][LibLinear][LibLinear][LibLinear][LibLinear][LibLinear][LibLinear][LibLinear][LibLinear][LibLinear][LibLinear][LibLinear][LibLinear][LibLinear][LibLinear][LibLinear][LibLinear][LibLinear][LibLinear][LibLinear][LibLinear][LibLinear][LibLinear][LibLinear][LibLinear][LibLinear][LibLinear][LibLinear][LibLinear][LibLinear][LibLinear][LibLinear][LibLinear][LibLinear][LibLinear][LibLinear][LibLinear][LibLinear][LibLinear][LibLinear][LibLinear][LibLinear][LibLinear][LibLinear][LibLinear][LibLinear][LibLinear][LibLinear][LibLinear][LibLinear][LibLinear][LibLinear][LibLinear][LibLinear][LibLinear][LibLinear][LibLinear][LibLinear][LibLinear][LibLinear][LibLinear][LibLinear][LibLinear][LibLinear][LibLinear][LibLinear][LibLinear][LibLinear][LibLinear][LibLinear][LibLinear][LibLinear][LibLinear][LibLinear][LibLinear][LibLinear][LibLinear][LibLinear][LibLinear][LibLinear][LibLinear][LibLinear][LibLinear][LibLinear][LibLinear][LibLinear][LibLinear][LibLinear][LibLinear][LibLinear][LibLinear][LibLinear][LibLinear][LibLinear][LibLinear][LibLinear][LibLinear][LibLinear][LibLinear][LibLinear][LibLinear][LibLinear][LibLinear][LibLinear][LibLinear][LibLinear][LibLinear][LibLinear][LibLinear][LibLinear][LibLinear][LibLinear][LibLinear][LibLinear][LibLinear][LibLinear][LibLinear][LibLinear][LibLinear][LibLinear][LibLinear][LibLinear][LibLinear][LibLinear][LibLinear][LibLinear][LibLinear][LibLinear][LibLinear][LibLinear][LibLinear][LibLinear][LibLinear][LibLinear][LibLinear][LibLinear][LibLinear][LibLinear][LibLinear][LibLinear][LibLinear][LibLinear][LibLinear][LibLinear][LibLinear][LibLinear][LibLinear][LibLinear][LibLinear][LibLinear][LibLinear][LibLinear][LibLinear][LibLinear][LibLinear][LibLinear][LibLinear][LibLinear][LibLinear][LibLinear][LibLinear][LibLinear][LibLinear][LibLinear][LibLinear][LibLinear][LibLinear][LibLinear][LibLinear][LibLinear][LibLinear][LibLinear][LibLinear][LibLinear][LibLinear][LibLinear][LibLinear][LibLinear][LibLinear][LibLinear][LibLinear][LibLinear][LibLinear][LibLinear][LibLinear][LibLinear][LibLinear][LibLinear][LibLinear][LibLinear][LibLinear][LibLinear][LibLinear][LibLinear][LibLinear][LibLinear][LibLinear][LibLinear][LibLinear][LibLinear][LibLinear][LibLinear][LibLinear][LibLinear][LibLinear][LibLinear][LibLinear][LibLinear][LibLinear][LibLinear][LibLinear][LibLinear][LibLinear][LibLinear][LibLinear][LibLinear][LibLinear][LibLinear][LibLinear][LibLinear][LibLinear][LibLinear][LibLinear][LibLinear][LibLinear][LibLinear][LibLinear][LibLinear][LibLinear][LibLinear][LibLinear][LibLinear][LibLinear][LibLinear][LibLinear][LibLinear][LibLinear][LibLinear][LibLinear][LibLinear][LibLinear][LibLinear][LibLinear][LibLinear][LibLinear][LibLinear][LibLinear][LibLinear][LibLinear][LibLinear][LibLinear][LibLinear][LibLinear][LibLinear][LibLinear][LibLinear][LibLinear][LibLinear][LibLinear][LibLinear][LibLinear][LibLinear][LibLinear][LibLinear][LibLinear][LibLinear][LibLinear][LibLinear][LibLinear][LibLinear][LibLinear][LibLinear][LibLinear][LibLinear][LibLinear][LibLinear][LibLinear][LibLinear][LibLinear][LibLinear][LibLinear][LibLinear][LibLinear][LibLinear][LibLinear][LibLinear][LibLinear][LibLinear][LibLinear][LibLinear][LibLinear][LibLinear][LibLinear][LibLinear][LibLinear][LibLinear][LibLinear][LibLinear][LibLinear][LibLinear][LibLinear][LibLinear][LibLinear][LibLinear][LibLinear][LibLinear][LibLinear][LibLinear][LibLinear][LibLinear][LibLinear][LibLinear][LibLinear][LibLinear][LibLinear][LibLinear][LibLinear][LibLinear][LibLinear][LibLinear][LibLinear][LibLinear][LibLinear][LibLinear][LibLinear][LibLinear][LibLinear][LibLinear][LibLinear][LibLinear][LibLinear][LibLinear][LibLinear][LibLinear][LibLinear][LibLinear][LibLinear][LibLinear][LibLinear][LibLinear][LibLinear][LibLinear][LibLinear][LibLinear][LibLinear][LibLinear][LibLinear][LibLinear][LibLinear][LibLinear][LibLinear][LibLinear][LibLinear][LibLinear][LibLinear][LibLinear][LibLinear][LibLinear][LibLinear][LibLinear][LibLinear][LibLinear][LibLinear][LibLinear][LibLinear][LibLinear][LibLinear][LibLinear][LibLinear][LibLinear][LibLinear][LibLinear][LibLinear][LibLinear][LibLinear][LibLinear][LibLinear][LibLinear][LibLinear][LibLinear][LibLinear][LibLinear][LibLinear][LibLinear][LibLinear][LibLinear][LibLinear][LibLinear][LibLinear][LibLinear][LibLinear][LibLinear][LibLinear][LibLinear][LibLinear][LibLinear][LibLinear][LibLinear][LibLinear][LibLinear][LibLinear][LibLinear][LibLinear][LibLinear][LibLinear][LibLinear][LibLinear][LibLinear][LibLinear][LibLinear][LibLinear][LibLinear][LibLinear][LibLinear][LibLinear][LibLinear][LibLinear][LibLinear][LibLinear][LibLinear][LibLinear][LibLinear][LibLinear][LibLinear][LibLinear][LibLinear][LibLinear][LibLinear][LibLinear][LibLinear][LibLinear][LibLinear][LibLinear][LibLinear][LibLinear][LibLinear][LibLinear][LibLinear][LibLinear][LibLinear][LibLinear][LibLinear][LibLinear][LibLinear][LibLinear][LibLinear][LibLinear][LibLinear][LibLinear][LibLinear][LibLinear][LibLinear][LibLinear][LibLinear][LibLinear][LibLinear][LibLinear][LibLinear][LibLinear][LibLinear][LibLinear][LibLinear][LibLinear][LibLinear][LibLinear][LibLinear][LibLinear][LibLinear][LibLinear][LibLinear][LibLinear][LibLinear][LibLinear][LibLinear][LibLinear][LibLinear][LibLinear][LibLinear][LibLinear][LibLinear][LibLinear][LibLinear][LibLinear][LibLinear][LibLinear][LibLinear][LibLinear][LibLinear][LibLinear][LibLinear][LibLinear][LibLinear][LibLinear][LibLinear][LibLinear][LibLinear][LibLinear][LibLinear][LibLinear][LibLinear][LibLinear][LibLinear][LibLinear][LibLinear][LibLinear][LibLinear][LibLinear][LibLinear][LibLinear][LibLinear][LibLinear][LibLinear][LibLinear][LibLinear][LibLinear][LibLinear][LibLinear][LibLinear][LibLinear][LibLinear][LibLinear][LibLinear][LibLinear][LibLinear][LibLinear][LibLinear][LibLinear][LibLinear][LibLinear][LibLinear][LibLinear][LibLinear][LibLinear][LibLinear][LibLinear][LibLinear][LibLinear][LibLinear][LibLinear][LibLinear][LibLinear][LibLinear][LibLinear][LibLinear][LibLinear][LibLinear][LibLinear][LibLinear][LibLinear][LibLinear][LibLinear][LibLinear][LibLinear][LibLinear][LibLinear]"
     ]
    }
   ],
   "source": [
    "# model\n",
    "print(\"Training..\")\n",
    "from sklearn import datasets\n",
    "from sklearn.feature_selection import RFE\n",
    "from sklearn.linear_model import LogisticRegression\n",
    "\n",
    "# n_jobs: -1 to run on all cores\n",
    "# verbose: 1 (default is 0)\n",
    "logreg = LogisticRegression(n_jobs=-1)\n",
    "\n",
    "rfe = RFE(logreg, 18)\n",
    "rfe = rfe.fit(train[X], train[y])"
   ]
  },
  {
   "cell_type": "code",
   "execution_count": 36,
   "metadata": {},
   "outputs": [
    {
     "name": "stdout",
     "output_type": "stream",
     "text": [
      "    app_1  app_2  app_3  app_4  app_5  app_6  app_7  app_8  app_9  app_10  \\\n",
      "ip                                                                          \n",
      "20      0      0      0      0      0      0      0      0      0       0   \n",
      "20      0      1      0      0      0      0      0      0      0       0   \n",
      "27      0      0      0      0      0      0      0      0      0       0   \n",
      "27      1      0      0      0      0      0      0      0      0       0   \n",
      "27      0      0      0      0      0      0      0      0      1       0   \n",
      "\n",
      "     ...     hour_14  hour_15  hour_16  hour_17  hour_18  hour_19  hour_20  \\\n",
      "ip   ...                                                                     \n",
      "20   ...           0        0        0        0        0        0        0   \n",
      "20   ...           0        0        0        0        0        0        0   \n",
      "27   ...           0        0        0        0        0        0        0   \n",
      "27   ...           0        0        0        0        0        0        0   \n",
      "27   ...           0        0        0        0        0        0        0   \n",
      "\n",
      "    hour_21  hour_22  hour_23  \n",
      "ip                             \n",
      "20        0        0        0  \n",
      "20        0        0        0  \n",
      "27        0        0        0  \n",
      "27        0        0        0  \n",
      "27        0        0        0  \n",
      "\n",
      "[5 rows x 585 columns]\n"
     ]
    }
   ],
   "source": [
    "test = test.sort_index()\n",
    "print(test.head())\n",
    "with open(path.join(environ['DATA_FOLDER'], 'predictions.csv'), 'w') as outfile:\n",
    "    outfile.write('click_id,is_attributed' + '\\n')\n",
    "    for click_id, x in zip(test.index,rfe.predict_proba(test[X])[:,1]):\n",
    "        outfile.write('%s,%.3f\\n' % (click_id,round(x,3)))"
   ]
  },
  {
   "cell_type": "code",
   "execution_count": null,
   "metadata": {},
   "outputs": [],
   "source": []
  }
 ],
 "metadata": {
  "kernelspec": {
   "display_name": "Python 2",
   "language": "python",
   "name": "python2"
  },
  "language_info": {
   "codemirror_mode": {
    "name": "ipython",
    "version": 2
   },
   "file_extension": ".py",
   "mimetype": "text/x-python",
   "name": "python",
   "nbconvert_exporter": "python",
   "pygments_lexer": "ipython2",
   "version": "2.7.13"
  }
 },
 "nbformat": 4,
 "nbformat_minor": 2
}
