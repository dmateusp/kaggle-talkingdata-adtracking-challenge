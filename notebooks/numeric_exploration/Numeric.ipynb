{
 "cells": [
  {
   "cell_type": "code",
   "execution_count": 5,
   "metadata": {},
   "outputs": [],
   "source": [
    "# imports\n",
    "import numpy as np # linear algebra\n",
    "import pandas as pd # data processing, CSV file I/O (e.g. pd.read_csv)\n",
    "from os import (environ, path)\n",
    "import sys\n",
    "import calendar\n",
    "import matplotlib.pyplot as plt"
   ]
  },
  {
   "cell_type": "code",
   "execution_count": 48,
   "metadata": {},
   "outputs": [
    {
     "name": "stdout",
     "output_type": "stream",
     "text": [
      "       ip  app  device  os  channel           click_time attributed_time  \\\n",
      "0   87540   12       1  13      497  2017-11-07 09:30:38             NaN   \n",
      "1  105560   25       1  17      259  2017-11-07 13:40:27             NaN   \n",
      "2  101424   12       1  19      212  2017-11-07 18:05:24             NaN   \n",
      "3   94584   13       1  13      477  2017-11-07 04:58:08             NaN   \n",
      "4   68413   12       1   1      178  2017-11-09 09:00:09             NaN   \n",
      "\n",
      "   is_attributed  \n",
      "0              0  \n",
      "1              0  \n",
      "2              0  \n",
      "3              0  \n",
      "4              0  \n",
      "ip                  int64\n",
      "app                 int64\n",
      "device              int64\n",
      "os                  int64\n",
      "channel             int64\n",
      "click_time         object\n",
      "attributed_time    object\n",
      "is_attributed       int64\n",
      "dtype: object\n"
     ]
    }
   ],
   "source": [
    "df = pd.read_csv(path.join(environ['DATA_FOLDER'], \"train_sample.csv.zip\"))\n",
    "print(df.head(5))\n",
    "print(df.dtypes)"
   ]
  },
  {
   "cell_type": "code",
   "execution_count": 49,
   "metadata": {},
   "outputs": [
    {
     "name": "stdout",
     "output_type": "stream",
     "text": [
      "       ip  app  device  os  channel           click_time attributed_time  \\\n",
      "0   87540   12       1  13      497  2017-11-07 09:30:38             NaN   \n",
      "1  105560   25       1  17      259  2017-11-07 13:40:27             NaN   \n",
      "2  101424   12       1  19      212  2017-11-07 18:05:24             NaN   \n",
      "3   94584   13       1  13      477  2017-11-07 04:58:08             NaN   \n",
      "4   68413   12       1   1      178  2017-11-09 09:00:09             NaN   \n",
      "\n",
      "   is_attributed  click_count_this_ip_this_app  \n",
      "0              0                             3  \n",
      "1              0                             4  \n",
      "2              0                             1  \n",
      "3              0                             1  \n",
      "4              0                             2  \n"
     ]
    }
   ],
   "source": [
    "click_count_this_ip_this_app = df.groupby(['ip','app']).count()['click_time'].rename('click_count_this_ip_this_app')\n",
    "df_2 = df.join(click_count_this_ip_this_app, on=['ip', 'app'])\n",
    "\n",
    "print(df_2.head())"
   ]
  },
  {
   "cell_type": "code",
   "execution_count": 88,
   "metadata": {},
   "outputs": [
    {
     "data": {
      "text/plain": [
       "<matplotlib.axes._subplots.AxesSubplot at 0x10afd7890>"
      ]
     },
     "execution_count": 88,
     "metadata": {},
     "output_type": "execute_result"
    },
    {
     "data": {
      "image/png": "[encoded data removed]",
      "text/plain": [
       "<Figure size 432x288 with 1 Axes>"
      ]
     },
     "metadata": {},
     "output_type": "display_data"
    }
   ],
   "source": [
    "df_3 = df_2.groupby(['click_count_this_ip_this_app']).count()['is_attributed'].rename('count_attributed').reset_index()\n",
    "df_3.plot(x='click_count_this_ip_this_app', y='count_attributed', kind='scatter', logy=True)"
   ]
  },
  {
   "cell_type": "code",
   "execution_count": null,
   "metadata": {},
   "outputs": [],
   "source": []
  }
 ],
 "metadata": {
  "kernelspec": {
   "display_name": "Python 2",
   "language": "python",
   "name": "python2"
  },
  "language_info": {
   "codemirror_mode": {
    "name": "ipython",
    "version": 2
   },
   "file_extension": ".py",
   "mimetype": "text/x-python",
   "name": "python",
   "nbconvert_exporter": "python",
   "pygments_lexer": "ipython2",
   "version": "2.7.13"
  }
 },
 "nbformat": 4,
 "nbformat_minor": 2
}
